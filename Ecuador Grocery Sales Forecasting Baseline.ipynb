{
 "cells": [
  {
   "cell_type": "markdown",
   "metadata": {},
   "source": [
    "## Corporación Favorita Sales Forecasting - Baseline"
   ]
  },
  {
   "cell_type": "code",
   "execution_count": 1,
   "metadata": {},
   "outputs": [],
   "source": [
    "import itertools"
   ]
  },
  {
   "cell_type": "code",
   "execution_count": 2,
   "metadata": {},
   "outputs": [],
   "source": [
    "import pandas as pd\n",
    "import numpy as np"
   ]
  },
  {
   "cell_type": "code",
   "execution_count": 4,
   "metadata": {},
   "outputs": [],
   "source": [
    "PATH='data/grocery/'"
   ]
  },
  {
   "cell_type": "code",
   "execution_count": 4,
   "metadata": {},
   "outputs": [],
   "source": [
    "df_train = pd.read_csv(f'{PATH}train.csv', usecols=[1,2,3,4,5], \n",
    "                       dtype={'onpromotion': str}, \n",
    "                       converters={'unit_sales': lambda u: float(u) if float(u) > 0\n",
    "                                  else 0},\n",
    "                                skiprows=range(1, 124035460))"
   ]
  },
  {
   "cell_type": "markdown",
   "metadata": {},
   "source": [
    "### Log transform"
   ]
  },
  {
   "cell_type": "code",
   "execution_count": 5,
   "metadata": {},
   "outputs": [],
   "source": [
    "df_train[\"unit_sales\"] =  df_train[\"unit_sales\"].apply(np.log1p)"
   ]
  },
  {
   "cell_type": "markdown",
   "metadata": {},
   "source": [
    "Fill gaps in dates"
   ]
  },
  {
   "cell_type": "code",
   "execution_count": 6,
   "metadata": {},
   "outputs": [],
   "source": [
    "u_dates = df_train.date.unique()\n",
    "u_stores = df_train.store_nbr.unique()\n",
    "u_items = df_train.item_nbr.unique()\n",
    "df_train.set_index([\"date\", \"store_nbr\", \"item_nbr\"], inplace=True)"
   ]
  },
  {
   "cell_type": "code",
   "execution_count": 7,
   "metadata": {},
   "outputs": [],
   "source": [
    "df_train = df_train.reindex(\n",
    "    pd.MultiIndex.from_product((u_dates, u_stores, u_items),\n",
    "    names=[\"date\", \"store_nbr\", \"item_nbr\"]))"
   ]
  },
  {
   "cell_type": "markdown",
   "metadata": {},
   "source": [
    "Fill NAs"
   ]
  },
  {
   "cell_type": "code",
   "execution_count": 8,
   "metadata": {},
   "outputs": [],
   "source": [
    "df_train.loc[:, \"unit_sales\"].fillna(0, inplace=True)"
   ]
  },
  {
   "cell_type": "code",
   "execution_count": 9,
   "metadata": {
    "collapsed": true
   },
   "outputs": [
    {
     "data": {
      "text/plain": [
       "date        store_nbr  item_nbr\n",
       "2017-08-02  1          96995       0.693147\n",
       "                       103520      0.693147\n",
       "                       103665      1.098612\n",
       "                       105574      2.197225\n",
       "                       105575      2.197225\n",
       "                       105857      1.791759\n",
       "                       106716      0.693147\n",
       "                       108696      1.386294\n",
       "                       108701      1.098612\n",
       "                       108786      2.197225\n",
       "                       108797      1.791759\n",
       "                       108862      1.386294\n",
       "                       111223      2.708050\n",
       "                       111397      1.098612\n",
       "                       112830      1.791759\n",
       "                       114778      1.386294\n",
       "                       114790      1.945910\n",
       "                       114800      1.386294\n",
       "                       115611      2.079442\n",
       "                       115693      1.609438\n",
       "                       115720      0.693147\n",
       "                       115891      1.609438\n",
       "                       115892      1.945910\n",
       "                       115893      2.079442\n",
       "                       116017      2.302585\n",
       "                       116018      1.791759\n",
       "                       116311      0.693147\n",
       "                       119024      1.098612\n",
       "                       119026      2.944439\n",
       "                       119141      2.397895\n",
       "                                     ...   \n",
       "2017-08-15  54         2003392     0.000000\n",
       "                       2121610     0.000000\n",
       "                       741922      0.000000\n",
       "                       2121690     0.000000\n",
       "                       1466833     0.000000\n",
       "                       2122868     0.000000\n",
       "                       2116139     0.000000\n",
       "                       2123750     0.000000\n",
       "                       2123711     0.000000\n",
       "                       2123859     0.000000\n",
       "                       2114752     0.000000\n",
       "                       2123863     0.000000\n",
       "                       1956354     0.000000\n",
       "                       2123790     0.000000\n",
       "                       2123747     0.000000\n",
       "                       2011437     0.000000\n",
       "                       2011457     0.000000\n",
       "                       2011470     0.000000\n",
       "                       2123463     0.000000\n",
       "                       2126842     0.000000\n",
       "                       2011448     0.000000\n",
       "                       2011468     0.000000\n",
       "                       1980754     0.000000\n",
       "                       2122818     0.000000\n",
       "                       2011459     0.000000\n",
       "                       2126944     0.000000\n",
       "                       2123839     0.000000\n",
       "                       2011451     0.000000\n",
       "                       1980702     0.000000\n",
       "                       1360012     0.000000\n",
       "Name: unit_sales, Length: 2912112, dtype: float64"
      ]
     },
     "execution_count": 9,
     "metadata": {},
     "output_type": "execute_result"
    }
   ],
   "source": [
    "df_train.unit_sales"
   ]
  },
  {
   "cell_type": "markdown",
   "metadata": {},
   "source": [
    "Assume Missing entries imply no promotion"
   ]
  },
  {
   "cell_type": "code",
   "execution_count": 10,
   "metadata": {},
   "outputs": [],
   "source": [
    "df_train.loc[:, \"onpromotion\"].fillna('Flase', inplace=True)"
   ]
  },
  {
   "cell_type": "markdown",
   "metadata": {},
   "source": [
    "Calculate means"
   ]
  },
  {
   "cell_type": "code",
   "execution_count": 11,
   "metadata": {},
   "outputs": [],
   "source": [
    "df_train = df_train.groupby(\n",
    "    ['item_nbr', 'store_nbr', 'onpromotion']\n",
    ")['unit_sales'].mean().to_frame('unit_sales')"
   ]
  },
  {
   "cell_type": "markdown",
   "metadata": {},
   "source": [
    "Inverse transform"
   ]
  },
  {
   "cell_type": "code",
   "execution_count": 12,
   "metadata": {},
   "outputs": [],
   "source": [
    "df_train[\"unit_sales\"] = df_train[\"unit_sales\"].apply(np.expm1)"
   ]
  },
  {
   "cell_type": "code",
   "execution_count": 14,
   "metadata": {},
   "outputs": [],
   "source": [
    "pd.read_csv(f'{PATH}test.csv', usecols=[0,2,3,4], dtype={'onpromotion': str}\n",
    "           ).set_index(['item_nbr', 'store_nbr', 'onpromotion']\n",
    "                      ).join(df_train, how='left'\n",
    "                            ).fillna(0).to_csv(f'{PATH}mean1.csv.gz', float_format='%.2f',index=None,\n",
    "                                              compression=\"gzip\")"
   ]
  },
  {
   "cell_type": "code",
   "execution_count": 6,
   "metadata": {},
   "outputs": [],
   "source": [
    "mf=pd.read_csv(f'{PATH}mean1.csv')"
   ]
  },
  {
   "cell_type": "code",
   "execution_count": 16,
   "metadata": {},
   "outputs": [
    {
     "data": {
      "text/html": [
       "<div>\n",
       "<style scoped>\n",
       "    .dataframe tbody tr th:only-of-type {\n",
       "        vertical-align: middle;\n",
       "    }\n",
       "\n",
       "    .dataframe tbody tr th {\n",
       "        vertical-align: top;\n",
       "    }\n",
       "\n",
       "    .dataframe thead th {\n",
       "        text-align: right;\n",
       "    }\n",
       "</style>\n",
       "<table border=\"1\" class=\"dataframe\">\n",
       "  <thead>\n",
       "    <tr style=\"text-align: right;\">\n",
       "      <th></th>\n",
       "      <th>id</th>\n",
       "      <th>unit_sales</th>\n",
       "    </tr>\n",
       "  </thead>\n",
       "  <tbody>\n",
       "    <tr>\n",
       "      <th>3370459</th>\n",
       "      <td>128024887</td>\n",
       "      <td>0.0</td>\n",
       "    </tr>\n",
       "    <tr>\n",
       "      <th>3370460</th>\n",
       "      <td>128235541</td>\n",
       "      <td>0.0</td>\n",
       "    </tr>\n",
       "    <tr>\n",
       "      <th>3370461</th>\n",
       "      <td>128446195</td>\n",
       "      <td>0.0</td>\n",
       "    </tr>\n",
       "    <tr>\n",
       "      <th>3370462</th>\n",
       "      <td>128656849</td>\n",
       "      <td>0.0</td>\n",
       "    </tr>\n",
       "    <tr>\n",
       "      <th>3370463</th>\n",
       "      <td>128867503</td>\n",
       "      <td>0.0</td>\n",
       "    </tr>\n",
       "  </tbody>\n",
       "</table>\n",
       "</div>"
      ],
      "text/plain": [
       "                id  unit_sales\n",
       "3370459  128024887         0.0\n",
       "3370460  128235541         0.0\n",
       "3370461  128446195         0.0\n",
       "3370462  128656849         0.0\n",
       "3370463  128867503         0.0"
      ]
     },
     "execution_count": 16,
     "metadata": {},
     "output_type": "execute_result"
    }
   ],
   "source": [
    "mf.tail()"
   ]
  },
  {
   "cell_type": "code",
   "execution_count": 9,
   "metadata": {},
   "outputs": [
    {
     "data": {
      "text/html": [
       "<div>\n",
       "<style scoped>\n",
       "    .dataframe tbody tr th:only-of-type {\n",
       "        vertical-align: middle;\n",
       "    }\n",
       "\n",
       "    .dataframe tbody tr th {\n",
       "        vertical-align: top;\n",
       "    }\n",
       "\n",
       "    .dataframe thead th {\n",
       "        text-align: right;\n",
       "    }\n",
       "</style>\n",
       "<table border=\"1\" class=\"dataframe\">\n",
       "  <thead>\n",
       "    <tr style=\"text-align: right;\">\n",
       "      <th></th>\n",
       "      <th>id</th>\n",
       "      <th>unit_sales</th>\n",
       "    </tr>\n",
       "  </thead>\n",
       "  <tbody>\n",
       "    <tr>\n",
       "      <th>count</th>\n",
       "      <td>3.370464e+06</td>\n",
       "      <td>3.370464e+06</td>\n",
       "    </tr>\n",
       "    <tr>\n",
       "      <th>mean</th>\n",
       "      <td>1.271823e+08</td>\n",
       "      <td>3.619123e+00</td>\n",
       "    </tr>\n",
       "    <tr>\n",
       "      <th>std</th>\n",
       "      <td>9.729693e+05</td>\n",
       "      <td>1.072351e+01</td>\n",
       "    </tr>\n",
       "    <tr>\n",
       "      <th>min</th>\n",
       "      <td>1.254970e+08</td>\n",
       "      <td>0.000000e+00</td>\n",
       "    </tr>\n",
       "    <tr>\n",
       "      <th>25%</th>\n",
       "      <td>1.263397e+08</td>\n",
       "      <td>0.000000e+00</td>\n",
       "    </tr>\n",
       "    <tr>\n",
       "      <th>50%</th>\n",
       "      <td>1.271823e+08</td>\n",
       "      <td>1.670000e+00</td>\n",
       "    </tr>\n",
       "    <tr>\n",
       "      <th>75%</th>\n",
       "      <td>1.280249e+08</td>\n",
       "      <td>3.560000e+00</td>\n",
       "    </tr>\n",
       "    <tr>\n",
       "      <th>max</th>\n",
       "      <td>1.288675e+08</td>\n",
       "      <td>2.182000e+03</td>\n",
       "    </tr>\n",
       "  </tbody>\n",
       "</table>\n",
       "</div>"
      ],
      "text/plain": [
       "                 id    unit_sales\n",
       "count  3.370464e+06  3.370464e+06\n",
       "mean   1.271823e+08  3.619123e+00\n",
       "std    9.729693e+05  1.072351e+01\n",
       "min    1.254970e+08  0.000000e+00\n",
       "25%    1.263397e+08  0.000000e+00\n",
       "50%    1.271823e+08  1.670000e+00\n",
       "75%    1.280249e+08  3.560000e+00\n",
       "max    1.288675e+08  2.182000e+03"
      ]
     },
     "execution_count": 9,
     "metadata": {},
     "output_type": "execute_result"
    }
   ],
   "source": [
    "mf.describe()"
   ]
  },
  {
   "cell_type": "code",
   "execution_count": 14,
   "metadata": {},
   "outputs": [],
   "source": [
    "from IPython.display import FileLink"
   ]
  },
  {
   "cell_type": "code",
   "execution_count": null,
   "metadata": {},
   "outputs": [],
   "source": []
  }
 ],
 "metadata": {
  "kernelspec": {
   "display_name": "Python 3",
   "language": "python",
   "name": "python3"
  },
  "language_info": {
   "codemirror_mode": {
    "name": "ipython",
    "version": 3
   },
   "file_extension": ".py",
   "mimetype": "text/x-python",
   "name": "python",
   "nbconvert_exporter": "python",
   "pygments_lexer": "ipython3",
   "version": "3.6.5"
  }
 },
 "nbformat": 4,
 "nbformat_minor": 2
}
